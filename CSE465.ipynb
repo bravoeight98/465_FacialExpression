{
  "nbformat": 4,
  "nbformat_minor": 0,
  "metadata": {
    "colab": {
      "provenance": [],
      "authorship_tag": "ABX9TyOOOhFZy4TGWjXbJFsmlazW",
      "include_colab_link": true
    },
    "kernelspec": {
      "name": "python3",
      "display_name": "Python 3"
    },
    "language_info": {
      "name": "python"
    },
    "accelerator": "GPU",
    "gpuClass": "standard"
  },
  "cells": [
    {
      "cell_type": "markdown",
      "metadata": {
        "id": "view-in-github",
        "colab_type": "text"
      },
      "source": [
        "<a href=\"https://colab.research.google.com/github/bravoeight98/465_FacialExpression/blob/main/CSE465.ipynb\" target=\"_parent\"><img src=\"https://colab.research.google.com/assets/colab-badge.svg\" alt=\"Open In Colab\"/></a>"
      ]
    },
    {
      "cell_type": "code",
      "source": [
        "from google.colab import drive\n",
        "drive.mount('/content/drive')"
      ],
      "metadata": {
        "colab": {
          "base_uri": "https://localhost:8080/"
        },
        "id": "sbxIVmY_9-9x",
        "outputId": "9e2da3ed-9109-4e38-e7be-1675697b9b05"
      },
      "execution_count": 1,
      "outputs": [
        {
          "output_type": "stream",
          "name": "stdout",
          "text": [
            "Mounted at /content/drive\n"
          ]
        }
      ]
    },
    {
      "cell_type": "code",
      "source": [
        "import numpy as np\n",
        "import pandas as pd\n",
        "import os\n",
        "import warnings\n",
        "warnings.filterwarnings('ignore')\n",
        "\n",
        "# defining dir variables \n",
        "root_dir = '/content/drive/MyDrive/465/'\n",
        "train_dir = root_dir + 'train/'\n",
        "test_dir = root_dir + 'test/'"
      ],
      "metadata": {
        "id": "usKmqtV49vej"
      },
      "execution_count": null,
      "outputs": []
    },
    {
      "cell_type": "code",
      "source": [
        "target_var = os.listdir(train_dir)\n",
        "target_var"
      ],
      "metadata": {
        "id": "FKF87l7O9wTs"
      },
      "execution_count": null,
      "outputs": []
    }
  ]
}